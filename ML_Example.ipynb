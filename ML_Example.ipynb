{
  "nbformat": 4,
  "nbformat_minor": 0,
  "metadata": {
    "colab": {
      "name": "ML_Example.ipynb",
      "provenance": [],
      "authorship_tag": "ABX9TyNi5J1kW+uQUxi4Ie6dcWgS",
      "include_colab_link": true
    },
    "kernelspec": {
      "name": "python3",
      "display_name": "Python 3"
    },
    "language_info": {
      "name": "python"
    }
  },
  "cells": [
    {
      "cell_type": "markdown",
      "metadata": {
        "id": "view-in-github",
        "colab_type": "text"
      },
      "source": [
        "<a href=\"https://colab.research.google.com/github/OscoLP/DeepLearning-RemoteSensing/blob/main/ML_Example.ipynb\" target=\"_parent\"><img src=\"https://colab.research.google.com/assets/colab-badge.svg\" alt=\"Open In Colab\"/></a>"
      ]
    },
    {
      "cell_type": "markdown",
      "metadata": {
        "id": "-aDPrjR0kyVV"
      },
      "source": [
        "***Mount GoogleDrive***"
      ]
    },
    {
      "cell_type": "code",
      "metadata": {
        "id": "ev5BChNiknPs"
      },
      "source": [
        "from google.colab import drive \n",
        "drive.mount('/content/gdrive')"
      ],
      "execution_count": null,
      "outputs": []
    },
    {
      "cell_type": "markdown",
      "metadata": {
        "id": "ApXdYZ-hlN_g"
      },
      "source": [
        "***Read the .csv file***\n"
      ]
    },
    {
      "cell_type": "code",
      "metadata": {
        "id": "c4f_fgfvlQc9"
      },
      "source": [
        "import pandas as pd\n",
        "data = pd.read_csv('gdrive/My Drive/Colab Notebooks/data/Data_SoyPlant.csv') #example given at a binary classification problem with plants\n",
        "\n",
        "def to_numeric(x):\n",
        "    if x == 'Control': return 0 #example given at a binary classification problem with control/healthy plants\n",
        "    if x == 'Damaged': return 1 #example given at a binary classification problem with damaged plants\n",
        "\n",
        "data['Label'] = data['Label'].apply(to_numeric)\n",
        "\n",
        "x_data = data.iloc[:, :-1].values\n",
        "y_data = data.iloc[:, -1].values"
      ],
      "execution_count": null,
      "outputs": []
    },
    {
      "cell_type": "markdown",
      "metadata": {
        "id": "eeSi7rM-ltrJ"
      },
      "source": [
        "***Split a dataset into train and test sets***"
      ]
    },
    {
      "cell_type": "code",
      "metadata": {
        "id": "JCqyHaKvlsPl"
      },
      "source": [
        "from sklearn.model_selection import train_test_split\n",
        "x_train, x_test, y_train, y_test = train_test_split(x_data, y_data, test_size=0.3)"
      ],
      "execution_count": null,
      "outputs": []
    },
    {
      "cell_type": "markdown",
      "metadata": {
        "id": "ZreAeFTLmQeG"
      },
      "source": [
        "***Build the models***"
      ]
    },
    {
      "cell_type": "code",
      "metadata": {
        "id": "7RdC_2h2mQO1"
      },
      "source": [
        "from sklearn.linear_model import LogisticRegression\n",
        "from sklearn.discriminant_analysis import LinearDiscriminantAnalysis\n",
        "from sklearn.neighbors import KNeighborsClassifier\n",
        "from sklearn.tree import DecisionTreeClassifier\n",
        "from sklearn.ensemble import RandomForestClassifier\n",
        "from sklearn.naive_bayes import GaussianNB\n",
        "from sklearn.svm import SVC\n",
        "from sklearn.ensemble import GradientBoostingClassifier\n",
        "from sklearn.neural_network import MLPClassifier\n",
        "\n",
        "models = []\n",
        "models.append(('LR', LogisticRegression(solver='liblinear', multi_class='ovr')))\n",
        "models.append(('LDA', LinearDiscriminantAnalysis()))\n",
        "models.append(('KNN', KNeighborsClassifier()))\n",
        "models.append(('CART', DecisionTreeClassifier()))\n",
        "models.append(('RF', RandomForestClassifier()))\n",
        "models.append(('NB', GaussianNB()))\n",
        "models.append(('SVM', SVC(gamma='auto')))\n",
        "models.append(('GB', GradientBoostingClassifier()))\n",
        "models.append(('MLP', MLPClassifier(hidden_layer_sizes=(128, 64, 32), max_iter=1000)))"
      ],
      "execution_count": null,
      "outputs": []
    },
    {
      "cell_type": "markdown",
      "metadata": {
        "id": "FInKPV7doSLN"
      },
      "source": [
        "***Evaluate each model***"
      ]
    },
    {
      "cell_type": "code",
      "metadata": {
        "id": "Ye467NeMoSAH"
      },
      "source": [
        "from sklearn.model_selection import cross_val_score\n",
        "from sklearn.model_selection import StratifiedKFold\n",
        "from sklearn.model_selection import RepeatedStratifiedKFold\n",
        "\n",
        "results = []\n",
        "names = []\n",
        "for name, model in models:\n",
        "\tkfold = StratifiedKFold(n_splits=10, random_state=1, shuffle=True)\n",
        "  #kfold = RepeatedStratifiedKFold(n_splits=10, n_repeats=10, random_state=1)\n",
        "\tcv_results = cross_val_score(model, x_train, y_train, cv=kfold, scoring='accuracy')\n",
        "\tresults.append(cv_results)\n",
        "\tnames.append(name)\n",
        "\tprint('%s: %f (%f)' % (name, cv_results.mean(), cv_results.std()))"
      ],
      "execution_count": null,
      "outputs": []
    },
    {
      "cell_type": "markdown",
      "metadata": {
        "id": "8NYR7wm1objj"
      },
      "source": [
        "***Compare the models***"
      ]
    },
    {
      "cell_type": "code",
      "metadata": {
        "id": "cIlbD7D9obaz"
      },
      "source": [
        "from matplotlib import pyplot\n",
        "\n",
        "pyplot.boxplot(results, labels=names, boxprops=dict(color='red'))\n",
        "pyplot.title('Algorithm Comparison')\n",
        "pyplot.show()"
      ],
      "execution_count": null,
      "outputs": []
    },
    {
      "cell_type": "markdown",
      "metadata": {
        "id": "ULF5Gqs5sfbg"
      },
      "source": [
        "***Store validation results on a .csv file***"
      ]
    },
    {
      "cell_type": "code",
      "metadata": {
        "id": "lAvAotJJse_j"
      },
      "source": [
        "import numpy as np\n",
        "np.savetxt(\"gdrive/My Drive/Colab Notebooks/data/y.csv\", results, delimiter=\",\")"
      ],
      "execution_count": null,
      "outputs": []
    },
    {
      "cell_type": "markdown",
      "metadata": {
        "id": "naPYcYyFogeS"
      },
      "source": [
        "***Make predictions on test set for one model***"
      ]
    },
    {
      "cell_type": "code",
      "metadata": {
        "id": "FHUP03U_pOZm"
      },
      "source": [
        "from sklearn.metrics import classification_report\n",
        "from sklearn.metrics import confusion_matrix\n",
        "from sklearn.metrics import accuracy_score\n",
        "\n",
        "#model = LogisticRegression(solver='liblinear', multi_class='ovr')\n",
        "#model = LinearDiscriminantAnalysis()\n",
        "#model = KNeighborsClassifier()\n",
        "#model = DecisionTreeClassifier()\n",
        "model = RandomForestClassifier()\n",
        "#model = GaussianNB()\n",
        "#model = SVC(gamma='auto')\n",
        "#model = GradientBoostingClassifier()\n",
        "#model = MLPClassifier(hidden_layer_sizes=(128, 64, 32), max_iter=1000)\n",
        "\n",
        "model.fit(x_train, y_train)\n",
        "predictions = model.predict(x_test)\n",
        "\n",
        "print(accuracy_score(y_test, predictions))\n",
        "print(confusion_matrix(y_test, predictions))\n",
        "print(classification_report(y_test, predictions, target_names=['Healthy', 'Damaged']))"
      ],
      "execution_count": null,
      "outputs": []
    },
    {
      "cell_type": "markdown",
      "metadata": {
        "id": "Bum0lm_9skc2"
      },
      "source": [
        "***Plot the confusion matrix for one model***"
      ]
    },
    {
      "cell_type": "code",
      "metadata": {
        "id": "C-r7bwNtskUD"
      },
      "source": [
        "import matplotlib.pyplot as plt\n",
        "from sklearn.metrics import confusion_matrix\n",
        "import numpy as np\n",
        "import itertools\n",
        "\n",
        "plt.figure()\n",
        "cm = confusion_matrix(y_test, predictions)\n",
        "def plot_confusion_matrix(cm, classes,\n",
        "                        normalize=False,\n",
        "                        title='Confusion Matrix',\n",
        "                        cmap=plt.get_cmap('RdPu')):\n",
        "    plt.imshow(cm, interpolation='nearest', cmap=cmap)\n",
        "    plt.title(title)\n",
        "    plt.colorbar()\n",
        "    tick_marks = np.arange(len(classes))\n",
        "    plt.xticks(tick_marks, classes, rotation=45)\n",
        "    plt.yticks(tick_marks, classes)\n",
        "\n",
        "    if normalize:\n",
        "        cm = cm.astype('float') / cm.sum(axis=1)[:, np.newaxis]\n",
        "        print(\"Normalized confusion matrix\")\n",
        "    else:\n",
        "        print('Confusion matrix, without normalization')\n",
        "\n",
        "    print(cm)\n",
        "\n",
        "    thresh = cm.max() / 2.\n",
        "    for i, j in itertools.product(range(cm.shape[0]), range(cm.shape[1])):\n",
        "        plt.text(j, i, cm[i, j],\n",
        "            horizontalalignment=\"center\",\n",
        "            color=\"white\" if cm[i, j] > thresh else \"black\")\n",
        "\n",
        "accuracy_score = np.trace(cm) / np.sum(cm).astype('float')\n",
        "misclass = 1 - accuracy_score\n",
        "\n",
        "plt.tight_layout()\n",
        "plt.ylabel('True label')\n",
        "plt.xlabel('Predicted label\\naccuracy_score={:0.4f}; misclass={:0.4f}'.format(accuracy_score, misclass))\n",
        "cm_plot_labels = ['Healthy', 'Damaged']\n",
        "\n",
        "plot_confusion_matrix(cm=cm, classes=cm_plot_labels, title='Confusion Matrix')\n",
        "\n",
        "plt.show()"
      ],
      "execution_count": null,
      "outputs": []
    }
  ]
}