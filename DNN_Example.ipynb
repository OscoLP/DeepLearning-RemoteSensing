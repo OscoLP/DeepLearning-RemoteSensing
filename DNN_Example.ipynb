{
  "nbformat": 4,
  "nbformat_minor": 0,
  "metadata": {
    "colab": {
      "name": "DNN_Example.ipynb",
      "provenance": [],
      "collapsed_sections": [],
      "authorship_tag": "ABX9TyM02wGJqQtC1sZZoq6vLWaS",
      "include_colab_link": true
    },
    "kernelspec": {
      "name": "python3",
      "display_name": "Python 3"
    }
  },
  "cells": [
    {
      "cell_type": "markdown",
      "metadata": {
        "id": "view-in-github",
        "colab_type": "text"
      },
      "source": [
        "<a href=\"https://colab.research.google.com/github/OscoLP/DeepLearning-RemoteSensing/blob/main/DNN_Example.ipynb\" target=\"_parent\"><img src=\"https://colab.research.google.com/assets/colab-badge.svg\" alt=\"Open In Colab\"/></a>"
      ]
    },
    {
      "cell_type": "markdown",
      "metadata": {
        "id": "ko0fbfnQekek"
      },
      "source": [
        "***Mount GoogleCollabs drive***"
      ]
    },
    {
      "cell_type": "code",
      "metadata": {
        "id": "xnf8GnqKZUYY"
      },
      "source": [
        "from google.colab import drive \r\n",
        "drive.mount('/content/gdrive')"
      ],
      "execution_count": null,
      "outputs": []
    },
    {
      "cell_type": "markdown",
      "metadata": {
        "id": "521-1wdwezOS"
      },
      "source": [
        "***Read the .csv file***"
      ]
    },
    {
      "cell_type": "code",
      "metadata": {
        "id": "H_mshP8pZ7Z1"
      },
      "source": [
        "import pandas as pd\r\n",
        "\r\n",
        "train = pd.read_csv('gdrive/My Drive/Colab Notebooks/Train.csv')\r\n",
        "x_train = train.iloc[:, 0:-1].values\r\n",
        "y_train = train.iloc[:, -1].values\r\n",
        "\r\n",
        "test = pd.read_csv('gdrive/My Drive/Colab Notebooks/Test.csv')\r\n",
        "x_test = test.iloc[:, 0:-1].values\r\n",
        "y_test = test.iloc[:, -1].values"
      ],
      "execution_count": null,
      "outputs": []
    },
    {
      "cell_type": "markdown",
      "metadata": {
        "id": "PMNzUK1Ce4KK"
      },
      "source": [
        "***Normalize the data***"
      ]
    },
    {
      "cell_type": "code",
      "metadata": {
        "id": "Ii6F-_TwWdHH"
      },
      "source": [
        "from sklearn.preprocessing import MinMaxScaler\r\n",
        "\r\n",
        "sc = MinMaxScaler(feature_range = (0, 1))\r\n",
        "x_train = sc.fit_transform(x_train)\r\n",
        "x_test = sc.fit_transform(x_test)"
      ],
      "execution_count": null,
      "outputs": []
    },
    {
      "cell_type": "markdown",
      "metadata": {
        "id": "3_tas5b9e8RM"
      },
      "source": [
        "***Import the model (keras)***"
      ]
    },
    {
      "cell_type": "code",
      "metadata": {
        "id": "49O_4fCCY4Rm"
      },
      "source": [
        "from keras.models import Sequential\r\n",
        "from keras.layers import Dense\r\n",
        "from keras.layers import Dropout"
      ],
      "execution_count": null,
      "outputs": []
    },
    {
      "cell_type": "markdown",
      "metadata": {
        "id": "9nVWGaWJfBNi"
      },
      "source": [
        "***Define the model structure***"
      ]
    },
    {
      "cell_type": "code",
      "metadata": {
        "id": "FJGGGmPzZEf0"
      },
      "source": [
        "model = Sequential()\r\n",
        "\r\n",
        "model.add(Dense(128, input_shape=(x_train.shape[1:]), activation='relu'))\r\n",
        "model.add(Dropout(0.2))\r\n",
        "\r\n",
        "model.add(Dense(128, activation='relu'))\r\n",
        "model.add(Dropout(0.2))\r\n",
        "\r\n",
        "model.add(Dense(64, activation='relu'))\r\n",
        "model.add(Dropout(0.2))\r\n",
        "\r\n",
        "model.add(Dense(32, activation='relu'))\r\n",
        "model.add(Dropout(0.2))\r\n",
        "\r\n",
        "model.add(Dense(units = 2, activation='softmax'))\r\n",
        "\r\n",
        "model.summary()"
      ],
      "execution_count": null,
      "outputs": []
    },
    {
      "cell_type": "markdown",
      "metadata": {
        "id": "X1By5obAfHxB"
      },
      "source": [
        "***Compile and train the model***"
      ]
    },
    {
      "cell_type": "code",
      "metadata": {
        "id": "u8oRLpkhZIMY"
      },
      "source": [
        "model.compile(optimizer = 'adam', loss = 'sparse_categorical_crossentropy', metrics=['accuracy'])\r\n",
        "\r\n",
        "history = model.fit(x_train, y_train, epochs = 100, batch_size = 32, verbose = 1, shufle = 'TRUE', validation_split= 0.2)"
      ],
      "execution_count": null,
      "outputs": []
    },
    {
      "cell_type": "markdown",
      "metadata": {
        "id": "DSuXe8COfOEj"
      },
      "source": [
        "***Visualize the training performance***"
      ]
    },
    {
      "cell_type": "code",
      "metadata": {
        "id": "7c2Vixr3ZL6a"
      },
      "source": [
        "import matplotlib.pyplot as plt\r\n",
        "\r\n",
        "plt.figure()\r\n",
        "plt.plot(history.history['loss'], label='Loss (training data)')\r\n",
        "plt.plot(history.history['val_loss'], label='Loss (validation data)')\r\n",
        "plt.title('Historic - Loss')\r\n",
        "plt.ylabel('Loss value')\r\n",
        "plt.xlabel('No. epoch')\r\n",
        "plt.legend(loc=\"upper right\")\r\n",
        "\r\n",
        "plt.figure()\r\n",
        "plt.plot(history.history['accuracy'], label='Accuracy (training data)')\r\n",
        "plt.plot(history.history['val_accuracy'], label='Accuracy (validation data)')\r\n",
        "plt.title('Historic - Acc')\r\n",
        "plt.ylabel('Acc value')\r\n",
        "plt.xlabel('No. epoch')\r\n",
        "plt.legend(loc=\"best\")\r\n",
        "\r\n",
        "plt.show()"
      ],
      "execution_count": null,
      "outputs": []
    },
    {
      "cell_type": "markdown",
      "metadata": {
        "id": "osRVo-oifYNW"
      },
      "source": [
        "***Calculate the model accuracy***"
      ]
    },
    {
      "cell_type": "code",
      "metadata": {
        "id": "q1Yu-eOWTRYG"
      },
      "source": [
        "_, accuracy = model.evaluate(x_test, y_test)\r\n",
        "print('Accuracy: %.2f' % (accuracy * 100))"
      ],
      "execution_count": null,
      "outputs": []
    },
    {
      "cell_type": "markdown",
      "metadata": {
        "id": "b3bjuSOpfdqC"
      },
      "source": [
        "***Print the model predictions***"
      ]
    },
    {
      "cell_type": "code",
      "metadata": {
        "id": "7AiT_iMrT5wT"
      },
      "source": [
        "y_pred = model.predict(x_test)\r\n",
        "print(y_pred)"
      ],
      "execution_count": null,
      "outputs": []
    },
    {
      "cell_type": "markdown",
      "metadata": {
        "id": "fpITvl-Tfj0E"
      },
      "source": [
        "***Print the model rounded predictions***"
      ]
    },
    {
      "cell_type": "code",
      "metadata": {
        "id": "5HlaJy7rTiL2"
      },
      "source": [
        "import numpy as np\r\n",
        "import itertools\r\n",
        "\r\n",
        "y_rounded_predictions = np.argmax(y_pred, axis=-1)\r\n",
        "y_initial_labels = test.iloc[:, -1].values\r\n",
        "\r\n",
        "print(y_rounded_predictions)"
      ],
      "execution_count": null,
      "outputs": []
    },
    {
      "cell_type": "markdown",
      "metadata": {
        "id": "D9MdrLYbfnSk"
      },
      "source": [
        "***Visualize the confusion matrix***"
      ]
    },
    {
      "cell_type": "code",
      "metadata": {
        "id": "nQhXqKTeThR4"
      },
      "source": [
        "import matplotlib.pyplot as plt\r\n",
        "from sklearn.metrics import confusion_matrix\r\n",
        "\r\n",
        "y_rounded_predictions = np.argmax(y_pred, axis=-1)\r\n",
        "y_initial_labels = test.iloc[:, -1].values\r\n",
        "\r\n",
        "plt.figure()\r\n",
        "cm = confusion_matrix(y_initial_labels, y_rounded_predictions)\r\n",
        "def plot_confusion_matrix(cm, classes,\r\n",
        "                        normalize=False,\r\n",
        "                        title='Confusion Matrix',\r\n",
        "                        cmap=plt.cm.Blues):\r\n",
        "    plt.imshow(cm, interpolation='nearest', cmap=cmap)\r\n",
        "    plt.title(title)\r\n",
        "    plt.colorbar()\r\n",
        "    tick_marks = np.arange(len(classes))\r\n",
        "    plt.xticks(tick_marks, classes)\r\n",
        "    plt.yticks(tick_marks, classes)\r\n",
        "\r\n",
        "    if normalize:\r\n",
        "        cm = cm.astype('float') / cm.sum(axis=1)[:, np.newaxis]\r\n",
        "        print(\"Normalized confusion matrix\")\r\n",
        "    else:\r\n",
        "        print('Confusion matrix, without normalization')\r\n",
        "\r\n",
        "    print(cm)\r\n",
        "\r\n",
        "    thresh = cm.max() / 3.\r\n",
        "    for i, j in itertools.product(range(cm.shape[0]), range(cm.shape[1])):\r\n",
        "        plt.text(j, i, cm[i, j],\r\n",
        "            horizontalalignment=\"center\",\r\n",
        "            color=\"white\" if cm[i, j] > thresh else \"black\")\r\n",
        "\r\n",
        "    plt.tight_layout()\r\n",
        "    plt.ylabel('True label')\r\n",
        "    plt.xlabel('Predicted label')\r\n",
        "cm_plot_labels = ['0','1']\r\n",
        "\r\n",
        "plot_confusion_matrix(cm=cm, classes=cm_plot_labels, title='Confusion Matrix')\r\n",
        "\r\n",
        "plt.show()"
      ],
      "execution_count": null,
      "outputs": []
    }
  ]
}